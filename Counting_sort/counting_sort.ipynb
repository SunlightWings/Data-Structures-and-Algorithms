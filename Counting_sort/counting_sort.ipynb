{
  "nbformat": 4,
  "nbformat_minor": 0,
  "metadata": {
    "colab": {
      "provenance": [],
      "gpuType": "T4"
    },
    "kernelspec": {
      "name": "python3",
      "display_name": "Python 3"
    },
    "language_info": {
      "name": "python"
    },
    "accelerator": "GPU"
  },
  "cells": [
    {
      "cell_type": "code",
      "source": [
        "def countingSort(array):\n",
        "    size = len(array)\n",
        "    output = [0] * size\n",
        "\n",
        "    # Initialize count array\n",
        "    count = [0] * 10\n",
        "\n",
        "    # Store the count of each element in count array\n",
        "    for i in range(0, size):\n",
        "        count[array[i]] += 1\n",
        "\n",
        "    # Store the cumulative count\n",
        "    for i in range(1, 10):\n",
        "        count[i] += count[i - 1]\n",
        "\n",
        "    # Find the index of each element of the original array in count array\n",
        "    # Place the elements in output array\n",
        "    i = size - 1\n",
        "    while i >= 0:\n",
        "        output[count[array[i]] - 1] = array[i]\n",
        "        count[array[i]] -= 1\n",
        "        i -= 1\n",
        "        print(f\"Moving element 'value {array[i+1]}' from position {i+1} to position {count[array[i+1]]}\")\n",
        "\n",
        "    # Copy the sorted elements into the original array\n",
        "    for i in range(0, size):\n",
        "        array[i] = output[i]\n",
        "        print(f\"Placing element 'value {output[i]}' in its final position\")\n",
        "\n",
        "data = [4, 2, 2, 8, 3, 3, 1]\n",
        "print(\"Original Array:\")\n",
        "print(data)\n",
        "print(\"\\nSorting Steps:\")\n",
        "countingSort(data)\n",
        "print(\"\\nSorted Array in Ascending Order:\")\n",
        "print(data)\n"
      ],
      "metadata": {
        "colab": {
          "base_uri": "https://localhost:8080/"
        },
        "id": "SLq766mc4OU1",
        "outputId": "1401fed9-fc44-460a-da0c-f85811539d18"
      },
      "execution_count": 6,
      "outputs": [
        {
          "output_type": "stream",
          "name": "stdout",
          "text": [
            "Original Array:\n",
            "[4, 2, 2, 8, 3, 3, 1]\n",
            "\n",
            "Sorting Steps:\n",
            "Moving element 'value 1' from position 6 to position 0\n",
            "Moving element 'value 3' from position 5 to position 4\n",
            "Moving element 'value 3' from position 4 to position 3\n",
            "Moving element 'value 8' from position 3 to position 6\n",
            "Moving element 'value 2' from position 2 to position 2\n",
            "Moving element 'value 2' from position 1 to position 1\n",
            "Moving element 'value 4' from position 0 to position 5\n",
            "Placing element 'value 1' in its final position\n",
            "Placing element 'value 2' in its final position\n",
            "Placing element 'value 2' in its final position\n",
            "Placing element 'value 3' in its final position\n",
            "Placing element 'value 3' in its final position\n",
            "Placing element 'value 4' in its final position\n",
            "Placing element 'value 8' in its final position\n",
            "\n",
            "Sorted Array in Ascending Order:\n",
            "[1, 2, 2, 3, 3, 4, 8]\n"
          ]
        }
      ]
    },
    {
      "cell_type": "code",
      "source": [],
      "metadata": {
        "id": "pMbezPgc4qDY"
      },
      "execution_count": null,
      "outputs": []
    }
  ]
}