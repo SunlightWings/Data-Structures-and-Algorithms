{
  "nbformat": 4,
  "nbformat_minor": 0,
  "metadata": {
    "colab": {
      "provenance": [],
      "gpuType": "T4"
    },
    "kernelspec": {
      "name": "python3",
      "display_name": "Python 3"
    },
    "language_info": {
      "name": "python"
    },
    "accelerator": "GPU"
  },
  "cells": [
    {
      "cell_type": "code",
      "source": [
        "def shellSort(array, n):\n",
        "    interval = n // 2\n",
        "\n",
        "    while interval > 0:\n",
        "        print(f'Using interval {interval}')\n",
        "\n",
        "        for i in range(interval, n):\n",
        "            temp = array[i]\n",
        "            j = i\n",
        "\n",
        "            while j >= interval and array[j - interval] > temp:\n",
        "                print(f'Moving element at position {j-interval} to position {j}')\n",
        "                array[j] = array[j - interval]\n",
        "                j -= interval\n",
        "\n",
        "            array[j] = temp\n",
        "\n",
        "        print(f'Array after interval {interval}: {array}')\n",
        "        interval //= 2\n",
        "\n",
        "    print('Final Sorted Array:')\n",
        "    print(array)\n",
        "\n",
        "\n",
        "data = [9, 8, 3, 7, 5, 6, 4, 1]\n",
        "size = len(data)\n",
        "shellSort(data, size)\n"
      ],
      "metadata": {
        "colab": {
          "base_uri": "https://localhost:8080/"
        },
        "id": "ETOCol1O5Rtt",
        "outputId": "24973e27-706f-4811-9488-2f85f6231aca"
      },
      "execution_count": 9,
      "outputs": [
        {
          "output_type": "stream",
          "name": "stdout",
          "text": [
            "Using interval 4\n",
            "Moving element at position 0 to position 4\n",
            "Moving element at position 1 to position 5\n",
            "Moving element at position 3 to position 7\n",
            "Array after interval 4: [5, 6, 3, 1, 9, 8, 4, 7]\n",
            "Using interval 2\n",
            "Moving element at position 0 to position 2\n",
            "Moving element at position 1 to position 3\n",
            "Moving element at position 4 to position 6\n",
            "Moving element at position 2 to position 4\n",
            "Moving element at position 5 to position 7\n",
            "Array after interval 2: [3, 1, 4, 6, 5, 7, 9, 8]\n",
            "Using interval 1\n",
            "Moving element at position 0 to position 1\n",
            "Moving element at position 3 to position 4\n",
            "Moving element at position 6 to position 7\n",
            "Array after interval 1: [1, 3, 4, 5, 6, 7, 8, 9]\n",
            "Final Sorted Array:\n",
            "[1, 3, 4, 5, 6, 7, 8, 9]\n"
          ]
        }
      ]
    },
    {
      "cell_type": "code",
      "source": [],
      "metadata": {
        "id": "JzoTvkt16iWp"
      },
      "execution_count": null,
      "outputs": []
    }
  ]
}