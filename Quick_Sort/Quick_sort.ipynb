{
  "nbformat": 4,
  "nbformat_minor": 0,
  "metadata": {
    "colab": {
      "provenance": [],
      "gpuType": "T4"
    },
    "kernelspec": {
      "name": "python3",
      "display_name": "Python 3"
    },
    "language_info": {
      "name": "python"
    },
    "accelerator": "GPU"
  },
  "cells": [
    {
      "cell_type": "code",
      "execution_count": 8,
      "metadata": {
        "id": "i9E-YYnjSFZO"
      },
      "outputs": [],
      "source": [
        "def partition(array, low, high):\n",
        "    i = low - 1\n",
        "    pivot = array[high]\n",
        "\n",
        "    for j in range(low, high):\n",
        "        if array[j] < pivot:\n",
        "            i += 1\n",
        "            array[i], array[j] = array[j], array[i]\n",
        "\n",
        "    array[i + 1], array[high] = array[high], array[i + 1]\n",
        "    return i + 1"
      ]
    },
    {
      "cell_type": "code",
      "source": [
        "def quick_sort(array, low, high):\n",
        "    if low < high:\n",
        "        temp = partition(array, low, high)\n",
        "        quick_sort(array, low, temp - 1)\n",
        "        quick_sort(array, temp + 1, high)"
      ],
      "metadata": {
        "id": "xhcBz2ADSGsH"
      },
      "execution_count": 9,
      "outputs": []
    },
    {
      "cell_type": "code",
      "source": [
        "import random\n",
        "array = [i for i in range(1, 20)]\n",
        "random.shuffle(array)\n",
        "print(array)\n",
        "quick_sort(array, 0, len(array) - 1)\n",
        "print(array)"
      ],
      "metadata": {
        "colab": {
          "base_uri": "https://localhost:8080/"
        },
        "id": "zhcNvv7OTiSK",
        "outputId": "8f2d8784-6192-420e-daa0-fa206e5d4e69"
      },
      "execution_count": 10,
      "outputs": [
        {
          "output_type": "stream",
          "name": "stdout",
          "text": [
            "[16, 9, 10, 14, 4, 3, 17, 6, 18, 19, 1, 7, 11, 5, 8, 15, 2, 12, 13]\n",
            "[1, 2, 3, 4, 5, 6, 7, 8, 9, 10, 11, 12, 13, 14, 15, 16, 17, 18, 19]\n"
          ]
        }
      ]
    }
  ]
}