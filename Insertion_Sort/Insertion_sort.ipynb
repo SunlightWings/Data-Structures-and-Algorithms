{
  "nbformat": 4,
  "nbformat_minor": 0,
  "metadata": {
    "colab": {
      "provenance": [],
      "gpuType": "T4"
    },
    "kernelspec": {
      "name": "python3",
      "display_name": "Python 3"
    },
    "language_info": {
      "name": "python"
    },
    "accelerator": "GPU"
  },
  "cells": [
    {
      "cell_type": "code",
      "execution_count": 7,
      "metadata": {
        "id": "i9E-YYnjSFZO"
      },
      "outputs": [],
      "source": [
        "def insertion_sort(array):\n",
        "    global iterations\n",
        "    iterations = 0\n",
        "    for i in range(1, len(array)):\n",
        "        current_value = array[i]\n",
        "        for j in range(i - 1, -1, -1):\n",
        "            iterations += 1\n",
        "            if array[j] > current_value:\n",
        "                array[j], array[j + 1] = array[j + 1], array[j] # swap\n",
        "            else:\n",
        "                array[j + 1] = current_value\n",
        "                break"
      ]
    },
    {
      "cell_type": "code",
      "source": [
        "import random\n",
        "array = [i for i in range(1, 20)]\n",
        "random.shuffle(array)\n",
        "\n",
        "insertion_sort(array)\n",
        "print(array)\n",
        "print(iterations)"
      ],
      "metadata": {
        "id": "xhcBz2ADSGsH",
        "colab": {
          "base_uri": "https://localhost:8080/"
        },
        "outputId": "24a07b4e-6ba6-4ca8-d927-69dbbe36b58b"
      },
      "execution_count": 9,
      "outputs": [
        {
          "output_type": "stream",
          "name": "stdout",
          "text": [
            "[1, 2, 3, 4, 5, 6, 7, 8, 9, 10, 11, 12, 13, 14, 15, 16, 17, 18, 19]\n",
            "119\n"
          ]
        }
      ]
    }
  ]
}