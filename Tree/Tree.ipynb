{
  "nbformat": 4,
  "nbformat_minor": 0,
  "metadata": {
    "colab": {
      "provenance": [],
      "gpuType": "T4"
    },
    "kernelspec": {
      "name": "python3",
      "display_name": "Python 3"
    },
    "language_info": {
      "name": "python"
    },
    "accelerator": "GPU"
  },
  "cells": [
    {
      "cell_type": "code",
      "execution_count": 13,
      "metadata": {
        "id": "i9E-YYnjSFZO"
      },
      "outputs": [],
      "source": [
        "class Node(object):\n",
        "    def __init__(self, data = None):\n",
        "        self.left = None\n",
        "        self.right = None\n",
        "        self.data = data\n",
        "\n",
        "    # to set left node\n",
        "    def setLeft(self, node):\n",
        "        self.left = node\n",
        "\n",
        "    # set right node\n",
        "    def setRight(self, node):\n",
        "        self.right = node\n",
        "\n",
        "    # get left node\n",
        "    def getLeft(self):\n",
        "        return self.left\n",
        "\n",
        "    # get right node\n",
        "    def getRight(self):\n",
        "        return self.right\n",
        "\n",
        "    # set data of node\n",
        "    def setData(self, data):\n",
        "        self.data = data\n",
        "\n",
        "    # get data of node\n",
        "    def getData(self):\n",
        "        return self.data"
      ]
    },
    {
      "cell_type": "code",
      "source": [
        "# traverse left, then print its data and then traverse for rightmost node\n",
        "def inorder(Tree):\n",
        "    if Tree:\n",
        "        inorder(Tree.getLeft())\n",
        "        print(Tree.getData(), end = ' ')\n",
        "        inorder(Tree.getRight())\n",
        "    return\n",
        "\n",
        "# print the root node, traverse left then right\n",
        "def preorder(Tree):\n",
        "    if Tree:\n",
        "        print(Tree.getData(), end = ' ')\n",
        "        preorder(Tree.getLeft())\n",
        "        preorder(Tree.getRight())\n",
        "    return\n",
        "\n",
        "# traveerse left, right and print data\n",
        "def postorder(Tree):\n",
        "    if Tree:\n",
        "        postorder(Tree.getLeft())\n",
        "        postorder(Tree.getRight())\n",
        "        print(Tree.getData(), end = ' ')"
      ],
      "metadata": {
        "id": "0WtygkcPfuWK"
      },
      "execution_count": 14,
      "outputs": []
    },
    {
      "cell_type": "code",
      "source": [
        "    root = Node(1)\n",
        "    root.setLeft(Node(2))\n",
        "    root.setRight(Node(3))\n",
        "    root.left.setLeft(Node(4))\n",
        "\n",
        "    print('Inorder  Traversal:')\n",
        "    inorder(root)\n",
        "    print('\\nPreorder Traversal:')\n",
        "    preorder(root)\n",
        "    print('\\nPostorder Traversal:')\n",
        "    postorder(root)\n"
      ],
      "metadata": {
        "colab": {
          "base_uri": "https://localhost:8080/"
        },
        "id": "pJGPoZtNXR4R",
        "outputId": "f02736f0-bfdc-48d2-e569-7c440490a269"
      },
      "execution_count": 15,
      "outputs": [
        {
          "output_type": "stream",
          "name": "stdout",
          "text": [
            "Inorder  Traversal:\n",
            "4 2 1 3 \n",
            "Preorder Traversal:\n",
            "1 2 4 3 \n",
            "Postorder Traversal:\n",
            "4 2 3 1 "
          ]
        }
      ]
    },
    {
      "cell_type": "code",
      "source": [],
      "metadata": {
        "id": "Amtoh93aYnpI"
      },
      "execution_count": null,
      "outputs": []
    }
  ]
}