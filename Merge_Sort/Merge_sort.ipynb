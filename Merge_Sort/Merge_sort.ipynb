{
  "nbformat": 4,
  "nbformat_minor": 0,
  "metadata": {
    "colab": {
      "provenance": [],
      "gpuType": "T4"
    },
    "kernelspec": {
      "name": "python3",
      "display_name": "Python 3"
    },
    "language_info": {
      "name": "python"
    },
    "accelerator": "GPU"
  },
  "cells": [
    {
      "cell_type": "code",
      "execution_count": 3,
      "metadata": {
        "id": "i9E-YYnjSFZO"
      },
      "outputs": [],
      "source": [
        "def merge_sort(array):\n",
        "    if len(array) < 2:\n",
        "        return array\n",
        "\n",
        "    mid = len(array) // 2\n",
        "    left = merge_sort(array[:mid])\n",
        "    right = merge_sort(array[mid:])\n",
        "\n",
        "    return merge(left, right)\n",
        "\n",
        "def merge(left, right):\n",
        "    result = []\n",
        "    i, j = 0, 0\n",
        "    while i < len(left) or j < len(right):\n",
        "        if left[i] <= right[j]:\n",
        "            result.append(left[i])\n",
        "            i += 1\n",
        "        else:\n",
        "            result.append(right[j])\n",
        "            j += 1\n",
        "        if i == len(left) or j == len(right):\n",
        "            result.extend(left[i:] or right[j:])\n",
        "            break\n",
        "\n",
        "    return result"
      ]
    },
    {
      "cell_type": "code",
      "source": [
        "import random\n",
        "array = [i for i in range(1, 20)]\n",
        "random.shuffle(array)\n",
        "print(array)\n",
        "print(merge_sort(array))"
      ],
      "metadata": {
        "colab": {
          "base_uri": "https://localhost:8080/"
        },
        "id": "xhcBz2ADSGsH",
        "outputId": "1f726a9b-75d6-493f-8239-97db972de2da"
      },
      "execution_count": 5,
      "outputs": [
        {
          "output_type": "stream",
          "name": "stdout",
          "text": [
            "[13, 3, 16, 14, 19, 15, 11, 7, 1, 18, 12, 4, 10, 5, 9, 6, 8, 17, 2]\n",
            "[1, 2, 3, 4, 5, 6, 7, 8, 9, 10, 11, 12, 13, 14, 15, 16, 17, 18, 19]\n"
          ]
        }
      ]
    },
    {
      "cell_type": "code",
      "source": [],
      "metadata": {
        "id": "zhcNvv7OTiSK"
      },
      "execution_count": null,
      "outputs": []
    }
  ]
}