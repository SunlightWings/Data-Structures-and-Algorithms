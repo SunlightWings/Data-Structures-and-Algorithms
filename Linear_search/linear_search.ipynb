{
  "nbformat": 4,
  "nbformat_minor": 0,
  "metadata": {
    "colab": {
      "provenance": [],
      "gpuType": "T4"
    },
    "kernelspec": {
      "name": "python3",
      "display_name": "Python 3"
    },
    "language_info": {
      "name": "python"
    },
    "accelerator": "GPU"
  },
  "cells": [
    {
      "cell_type": "code",
      "execution_count": 12,
      "metadata": {
        "id": "i9E-YYnjSFZO"
      },
      "outputs": [],
      "source": [
        "pos = -1\n",
        "\n",
        "def search(list, n):\n",
        "    i = 0\n",
        "\n",
        "    while i< len(list):\n",
        "        if list[i] == n:\n",
        "            globals()['pos'] = i\n",
        "            print(\"Found at \",pos+1)\n",
        "            return True\n",
        "\n",
        "        i = i + 1;\n",
        "\n",
        "    print(\"Not Found\")\n",
        "    return False\n",
        "\n",
        "\n",
        "list = [5,8,4,6,9,2]\n",
        "n = 9"
      ]
    },
    {
      "cell_type": "code",
      "source": [
        "search(list,10)"
      ],
      "metadata": {
        "id": "Amtoh93aYnpI",
        "colab": {
          "base_uri": "https://localhost:8080/"
        },
        "outputId": "f966dab5-029c-4f8d-f66f-bbb9778fc9be"
      },
      "execution_count": 13,
      "outputs": [
        {
          "output_type": "stream",
          "name": "stdout",
          "text": [
            "Not Found\n"
          ]
        },
        {
          "output_type": "execute_result",
          "data": {
            "text/plain": [
              "False"
            ]
          },
          "metadata": {},
          "execution_count": 13
        }
      ]
    },
    {
      "cell_type": "code",
      "source": [
        "search(list,8)"
      ],
      "metadata": {
        "colab": {
          "base_uri": "https://localhost:8080/"
        },
        "id": "DYeGlj0pUkCM",
        "outputId": "7139152c-c30b-4b2c-c13e-2f8336ad1b97"
      },
      "execution_count": 14,
      "outputs": [
        {
          "output_type": "stream",
          "name": "stdout",
          "text": [
            "Found at  2\n"
          ]
        },
        {
          "output_type": "execute_result",
          "data": {
            "text/plain": [
              "True"
            ]
          },
          "metadata": {},
          "execution_count": 14
        }
      ]
    }
  ]
}