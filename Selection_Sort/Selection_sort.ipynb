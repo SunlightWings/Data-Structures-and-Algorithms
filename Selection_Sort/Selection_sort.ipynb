{
  "nbformat": 4,
  "nbformat_minor": 0,
  "metadata": {
    "colab": {
      "provenance": [],
      "gpuType": "T4"
    },
    "kernelspec": {
      "name": "python3",
      "display_name": "Python 3"
    },
    "language_info": {
      "name": "python"
    },
    "accelerator": "GPU"
  },
  "cells": [
    {
      "cell_type": "code",
      "execution_count": 5,
      "metadata": {
        "id": "i9E-YYnjSFZO"
      },
      "outputs": [],
      "source": [
        "def selection_sort(array):\n",
        "    global iterations\n",
        "    iterations = 0\n",
        "    for i in range(len(array)):\n",
        "        minimum_index = i\n",
        "        for j in range(i + 1, len(array)):\n",
        "            iterations += 1\n",
        "            if array[minimum_index] > array[j]:\n",
        "                minimum_index = j\n",
        "        if minimum_index != i:\n",
        "            array[i], array[minimum_index] = array[minimum_index], array[i]"
      ]
    },
    {
      "cell_type": "code",
      "source": [
        "import random\n",
        "array = [i for i in range(20)]\n",
        "random.shuffle(array)\n",
        "\n",
        "selection_sort(array)\n",
        "\n",
        "print(array)\n",
        "print(iterations)"
      ],
      "metadata": {
        "id": "xhcBz2ADSGsH",
        "colab": {
          "base_uri": "https://localhost:8080/"
        },
        "outputId": "639c36df-f820-40e3-af8c-349504aa574d"
      },
      "execution_count": 6,
      "outputs": [
        {
          "output_type": "stream",
          "name": "stdout",
          "text": [
            "[0, 1, 2, 3, 4, 5, 6, 7, 8, 9, 10, 11, 12, 13, 14, 15, 16, 17, 18, 19]\n",
            "190\n"
          ]
        }
      ]
    }
  ]
}