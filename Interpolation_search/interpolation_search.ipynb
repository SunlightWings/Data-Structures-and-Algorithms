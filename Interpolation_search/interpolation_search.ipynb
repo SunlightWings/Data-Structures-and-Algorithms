{
  "nbformat": 4,
  "nbformat_minor": 0,
  "metadata": {
    "colab": {
      "provenance": [],
      "gpuType": "T4"
    },
    "kernelspec": {
      "name": "python3",
      "display_name": "Python 3"
    },
    "language_info": {
      "name": "python"
    },
    "accelerator": "GPU"
  },
  "cells": [
    {
      "cell_type": "code",
      "source": [
        "   \"\"\"\n",
        "    Perform interpolation search to find element 'x' in array 'arr'.\n",
        "\n",
        "    Args:\n",
        "    arr (list): List of elements (sorted in ascending order).\n",
        "    lo (int): Starting index of the subarray.\n",
        "    hi (int): Ending index of the subarray.\n",
        "    x (int): Element to search for.\n",
        "\n",
        "    Returns:\n",
        "    int: Index of the element if found, otherwise -1.\n",
        "    \"\"\"\n",
        "\n",
        "def interpolationSearch(arr, lo, hi, x):\n",
        "\n",
        "    # Check if 'x' is within the range of the current subarray\n",
        "    if lo <= hi and arr[lo] <= x <= arr[hi]:\n",
        "\n",
        "        # Calculate the estimated position of 'x'\n",
        "        pos = lo + ((x - arr[lo]) * (hi - lo) // (arr[hi] - arr[lo]))\n",
        "\n",
        "        # If 'x' is found at the estimated position\n",
        "        if arr[pos] == x:\n",
        "            return pos\n",
        "\n",
        "        # If 'x' is likely to be on the right side\n",
        "        if arr[pos] < x:\n",
        "            print(f\"Element {x} is likely on the right side of index {pos}.\")\n",
        "            return interpolationSearch(arr, pos + 1, hi, x)\n",
        "\n",
        "        # If 'x' is likely to be on the left side\n",
        "        if arr[pos] > x:\n",
        "            print(f\"Element {x} is likely on the left side of index {pos}.\")\n",
        "            return interpolationSearch(arr, lo, pos - 1, x)\n",
        "\n",
        "    # If 'x' is not found in the subarray\n",
        "    return -1\n",
        "\n",
        "# Example usage\n",
        "arr = [10, 12, 13, 16, 18, 19, 20, 21, 22, 23, 24, 33, 35, 42, 47]\n",
        "x = 33\n",
        "\n",
        "index = interpolationSearch(arr, 0, len(arr) - 1, x)\n",
        "\n",
        "if index != -1:\n",
        "    print(f\"Element {x} found at index {index}.\")\n",
        "else:\n",
        "    print(f\"Element {x} not found.\")\n"
      ],
      "metadata": {
        "colab": {
          "base_uri": "https://localhost:8080/"
        },
        "id": "JzoTvkt16iWp",
        "outputId": "750279c6-d3be-4128-ff06-b7f8588bdd9b"
      },
      "execution_count": 13,
      "outputs": [
        {
          "output_type": "stream",
          "name": "stdout",
          "text": [
            "Element 33 is likely on the right side of index 8.\n",
            "Element 33 found at index 11.\n"
          ]
        }
      ]
    },
    {
      "cell_type": "code",
      "source": [],
      "metadata": {
        "id": "lNV83kon86Rz"
      },
      "execution_count": null,
      "outputs": []
    }
  ]
}