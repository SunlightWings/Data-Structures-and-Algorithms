{
  "nbformat": 4,
  "nbformat_minor": 0,
  "metadata": {
    "colab": {
      "provenance": [],
      "gpuType": "T4"
    },
    "kernelspec": {
      "name": "python3",
      "display_name": "Python 3"
    },
    "language_info": {
      "name": "python"
    },
    "accelerator": "GPU"
  },
  "cells": [
    {
      "cell_type": "code",
      "source": [
        "def binary_search(arr, target):\n",
        "    left = 0\n",
        "    right = len(arr) - 1\n",
        "    steps = []  # Keep track of the search steps\n",
        "\n",
        "    while left <= right:\n",
        "        mid = (left + right) // 2\n",
        "        steps.append(mid)  # Record the current mid value\n",
        "\n",
        "        if arr[mid] == target:\n",
        "            return mid, steps\n",
        "        elif arr[mid] < target:\n",
        "            left = mid + 1\n",
        "            print(f\"Need to search towards the right half.\")\n",
        "        else:\n",
        "            right = mid - 1\n",
        "            print(f\"Need to search towards the left half.\")\n",
        "\n",
        "    return -1, steps\n",
        "\n",
        "# Define the list and target\n",
        "sorted_list = [4, 7, 8, 12, 45, 99, 102, 702, 10987, 56666]\n",
        "target = 99\n",
        "\n",
        "# Perform binary search\n",
        "position, search_steps = binary_search(sorted_list, target)\n",
        "\n",
        "if position != -1:\n",
        "    print(f\"Target {target} found at index {position}.\")\n",
        "else:\n",
        "    print(f\"Target {target} not found.\")\n",
        "\n",
        "# Display the search pattern\n",
        "print(\"---------------\")\n",
        "print(\"Search Pattern:\")\n",
        "for step in search_steps:\n",
        "    print(f\"Step: {step}, Value: {sorted_list[step]}\")\n"
      ],
      "metadata": {
        "colab": {
          "base_uri": "https://localhost:8080/"
        },
        "id": "BKjIm69XWz-t",
        "outputId": "9cf69375-17e5-4b16-874e-1ae41cedb2c7"
      },
      "execution_count": 21,
      "outputs": [
        {
          "output_type": "stream",
          "name": "stdout",
          "text": [
            "Need to search towards the right half.\n",
            "Need to search towards the left half.\n",
            "Target 99 found at index 5.\n",
            "---------------\n",
            "Search Pattern:\n",
            "Step: 4, Value: 45\n",
            "Step: 7, Value: 702\n",
            "Step: 5, Value: 99\n"
          ]
        }
      ]
    },
    {
      "cell_type": "code",
      "source": [],
      "metadata": {
        "id": "ZxEg0bjIXtL9"
      },
      "execution_count": null,
      "outputs": []
    }
  ]
}