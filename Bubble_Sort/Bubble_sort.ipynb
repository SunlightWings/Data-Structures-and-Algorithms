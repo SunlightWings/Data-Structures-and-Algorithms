{
  "nbformat": 4,
  "nbformat_minor": 0,
  "metadata": {
    "colab": {
      "provenance": [],
      "gpuType": "T4"
    },
    "kernelspec": {
      "name": "python3",
      "display_name": "Python 3"
    },
    "language_info": {
      "name": "python"
    },
    "accelerator": "GPU"
  },
  "cells": [
    {
      "cell_type": "code",
      "execution_count": 1,
      "metadata": {
        "id": "i9E-YYnjSFZO"
      },
      "outputs": [],
      "source": [
        "def optimized_bubble_sort(array):\n",
        "    global iterations\n",
        "    iterations = 0\n",
        "    for i in range(len(array) - 1):\n",
        "        swapped = False\n",
        "        for j in range(len(array) - 1):\n",
        "            iterations += 1\n",
        "            if array[j] > array[j + 1]:\n",
        "                array[j], array[j + 1] = array[j + 1], array[j]\n",
        "                swapped = True\n",
        "        if not swapped:\n",
        "            break"
      ]
    },
    {
      "cell_type": "code",
      "source": [
        "import random\n",
        "# elements are randomly shuffled\n",
        "array = [i for i in range(1, 20)]\n",
        "random.shuffle(array)\n",
        "\n",
        "optimized_bubble_sort(array)\n",
        "print(iterations)"
      ],
      "metadata": {
        "id": "xhcBz2ADSGsH",
        "colab": {
          "base_uri": "https://localhost:8080/"
        },
        "outputId": "e82a5bf4-400d-48df-c360-361b6cd23373"
      },
      "execution_count": 4,
      "outputs": [
        {
          "output_type": "stream",
          "name": "stdout",
          "text": [
            "270\n"
          ]
        }
      ]
    }
  ]
}