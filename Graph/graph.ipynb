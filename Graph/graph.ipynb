{
  "nbformat": 4,
  "nbformat_minor": 0,
  "metadata": {
    "colab": {
      "provenance": [],
      "gpuType": "T4"
    },
    "kernelspec": {
      "name": "python3",
      "display_name": "Python 3"
    },
    "language_info": {
      "name": "python"
    },
    "accelerator": "GPU"
  },
  "cells": [
    {
      "cell_type": "code",
      "source": [
        "import matplotlib.pyplot as plt\n",
        "\n",
        "class Graph:\n",
        "    def __init__(self, vertices):\n",
        "        self.V = vertices\n",
        "        self.graph = [[0 for _ in range(vertices)] for _ in range(vertices)]\n",
        "\n",
        "    def printGraph(self):\n",
        "        print(\"\\nAdjacency Matrix:\")\n",
        "        for i in range(self.V):\n",
        "            for j in range(self.V):\n",
        "                print(self.graph[i][j], end=\" \")\n",
        "            print()\n",
        "\n",
        "    def addEdge(self, v, w):\n",
        "        print(f\"Adding an edge between {v} and {w}\")\n",
        "        self.graph[v][w] = 1\n",
        "        self.graph[w][v] = 1\n",
        "\n",
        "if __name__ == \"__main__\":\n",
        "    g = Graph(5)\n",
        "\n",
        "    g.addEdge(0, 1)\n",
        "    g.addEdge(0, 2)\n",
        "    g.addEdge(1, 2)\n",
        "    g.addEdge(2, 0)\n",
        "    g.addEdge(2, 3)\n",
        "    g.addEdge(3, 4)\n",
        "\n",
        "    g.printGraph()\n",
        "\n",
        "    # Plotting the adjacency matrix\n",
        "    plt.imshow(g.graph, cmap='hot', interpolation='nearest')\n",
        "    plt.colorbar(label='Edge')\n",
        "    plt.title('Adjacency Matrix')\n",
        "    plt.show()\n"
      ],
      "metadata": {
        "colab": {
          "base_uri": "https://localhost:8080/",
          "height": 678
        },
        "id": "__d5jXWKgyhE",
        "outputId": "b616ee36-3b7d-4d2c-ebd7-a6d7ef29eb94"
      },
      "execution_count": 2,
      "outputs": [
        {
          "output_type": "stream",
          "name": "stdout",
          "text": [
            "Adding an edge between 0 and 1\n",
            "Adding an edge between 0 and 2\n",
            "Adding an edge between 1 and 2\n",
            "Adding an edge between 2 and 0\n",
            "Adding an edge between 2 and 3\n",
            "Adding an edge between 3 and 4\n",
            "\n",
            "Adjacency Matrix:\n",
            "0 1 1 0 0 \n",
            "1 0 1 0 0 \n",
            "1 1 0 1 0 \n",
            "0 0 1 0 1 \n",
            "0 0 0 1 0 \n"
          ]
        },
        {
          "output_type": "display_data",
          "data": {
            "text/plain": [
              "<Figure size 640x480 with 2 Axes>"
            ],
            "image/png": "[encoded data removed]"
          },
          "metadata": {}
        }
      ]
    },
    {
      "cell_type": "code",
      "source": [],
      "metadata": {
        "id": "eG25QMDTqbOp"
      },
      "execution_count": null,
      "outputs": []
    }
  ]
}